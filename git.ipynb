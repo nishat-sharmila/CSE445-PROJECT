{
 "cells": [
  {
   "cell_type": "markdown",
   "id": "ef91ff5a-493e-4d34-b8be-72a166a36ffe",
   "metadata": {},
   "source": [
    "# Importing Libraries"
   ]
  },
  {
   "cell_type": "code",
   "execution_count": 20,
   "id": "f8b63fd0-dd80-491c-bb99-85a4ba5fd13e",
   "metadata": {},
   "outputs": [],
   "source": [
    "import numpy as np\n",
    "import pandas as pd\n",
    "\n",
    "from sklearn.model_selection import train_test_split\n",
    "from sklearn.preprocessing import StandardScaler\n",
    "\n",
    "from sklearn.linear_model import LogisticRegression\n",
    "from sklearn.neighbors import KNeighborsClassifier\n",
    "from sklearn.tree import DecisionTreeClassifier\n",
    "from sklearn.svm import LinearSVC, SVC\n",
    "from sklearn.neural_network import MLPClassifier\n",
    "from sklearn.ensemble import RandomForestClassifier, GradientBoostingClassifier\n",
    "\n",
    "from sklearn.model_selection import RepeatedStratifiedKFold\n",
    "from sklearn.model_selection import GridSearchCV\n",
    "from sklearn.linear_model import LogisticRegression\n",
    "from sklearn.metrics import confusion_matrix,classification_report,accuracy_score\n",
    "\n",
    "\n",
    "import matplotlib.pyplot as plt\n",
    "import seaborn as sns"
   ]
  },
  {
   "cell_type": "code",
   "execution_count": 2,
   "id": "92eae5d4-0301-4e5a-9220-6539cee33ceb",
   "metadata": {},
   "outputs": [],
   "source": [
    "data = pd.read_csv('diabetes_data_upload.csv')"
   ]
  },
  {
   "cell_type": "code",
   "execution_count": 3,
   "id": "3b866d26-5c48-446f-bb2c-7039bdeb1e00",
   "metadata": {},
   "outputs": [
    {
     "data": {
      "text/html": [
       "<div>\n",
       "<style scoped>\n",
       "    .dataframe tbody tr th:only-of-type {\n",
       "        vertical-align: middle;\n",
       "    }\n",
       "\n",
       "    .dataframe tbody tr th {\n",
       "        vertical-align: top;\n",
       "    }\n",
       "\n",
       "    .dataframe thead th {\n",
       "        text-align: right;\n",
       "    }\n",
       "</style>\n",
       "<table border=\"1\" class=\"dataframe\">\n",
       "  <thead>\n",
       "    <tr style=\"text-align: right;\">\n",
       "      <th></th>\n",
       "      <th>Age</th>\n",
       "      <th>Gender</th>\n",
       "      <th>Polyuria</th>\n",
       "      <th>Polydipsia</th>\n",
       "      <th>sudden weight loss</th>\n",
       "      <th>weakness</th>\n",
       "      <th>Polyphagia</th>\n",
       "      <th>Genital thrush</th>\n",
       "      <th>visual blurring</th>\n",
       "      <th>Itching</th>\n",
       "      <th>Irritability</th>\n",
       "      <th>delayed healing</th>\n",
       "      <th>partial paresis</th>\n",
       "      <th>muscle stiffness</th>\n",
       "      <th>Alopecia</th>\n",
       "      <th>Obesity</th>\n",
       "      <th>class</th>\n",
       "    </tr>\n",
       "  </thead>\n",
       "  <tbody>\n",
       "    <tr>\n",
       "      <th>0</th>\n",
       "      <td>40</td>\n",
       "      <td>Male</td>\n",
       "      <td>No</td>\n",
       "      <td>Yes</td>\n",
       "      <td>No</td>\n",
       "      <td>Yes</td>\n",
       "      <td>No</td>\n",
       "      <td>No</td>\n",
       "      <td>No</td>\n",
       "      <td>Yes</td>\n",
       "      <td>No</td>\n",
       "      <td>Yes</td>\n",
       "      <td>No</td>\n",
       "      <td>Yes</td>\n",
       "      <td>Yes</td>\n",
       "      <td>Yes</td>\n",
       "      <td>Positive</td>\n",
       "    </tr>\n",
       "    <tr>\n",
       "      <th>1</th>\n",
       "      <td>58</td>\n",
       "      <td>Male</td>\n",
       "      <td>No</td>\n",
       "      <td>No</td>\n",
       "      <td>No</td>\n",
       "      <td>Yes</td>\n",
       "      <td>No</td>\n",
       "      <td>No</td>\n",
       "      <td>Yes</td>\n",
       "      <td>No</td>\n",
       "      <td>No</td>\n",
       "      <td>No</td>\n",
       "      <td>Yes</td>\n",
       "      <td>No</td>\n",
       "      <td>Yes</td>\n",
       "      <td>No</td>\n",
       "      <td>Positive</td>\n",
       "    </tr>\n",
       "    <tr>\n",
       "      <th>2</th>\n",
       "      <td>41</td>\n",
       "      <td>Male</td>\n",
       "      <td>Yes</td>\n",
       "      <td>No</td>\n",
       "      <td>No</td>\n",
       "      <td>Yes</td>\n",
       "      <td>Yes</td>\n",
       "      <td>No</td>\n",
       "      <td>No</td>\n",
       "      <td>Yes</td>\n",
       "      <td>No</td>\n",
       "      <td>Yes</td>\n",
       "      <td>No</td>\n",
       "      <td>Yes</td>\n",
       "      <td>Yes</td>\n",
       "      <td>No</td>\n",
       "      <td>Positive</td>\n",
       "    </tr>\n",
       "    <tr>\n",
       "      <th>3</th>\n",
       "      <td>45</td>\n",
       "      <td>Male</td>\n",
       "      <td>No</td>\n",
       "      <td>No</td>\n",
       "      <td>Yes</td>\n",
       "      <td>Yes</td>\n",
       "      <td>Yes</td>\n",
       "      <td>Yes</td>\n",
       "      <td>No</td>\n",
       "      <td>Yes</td>\n",
       "      <td>No</td>\n",
       "      <td>Yes</td>\n",
       "      <td>No</td>\n",
       "      <td>No</td>\n",
       "      <td>No</td>\n",
       "      <td>No</td>\n",
       "      <td>Positive</td>\n",
       "    </tr>\n",
       "    <tr>\n",
       "      <th>4</th>\n",
       "      <td>60</td>\n",
       "      <td>Male</td>\n",
       "      <td>Yes</td>\n",
       "      <td>Yes</td>\n",
       "      <td>Yes</td>\n",
       "      <td>Yes</td>\n",
       "      <td>Yes</td>\n",
       "      <td>No</td>\n",
       "      <td>Yes</td>\n",
       "      <td>Yes</td>\n",
       "      <td>Yes</td>\n",
       "      <td>Yes</td>\n",
       "      <td>Yes</td>\n",
       "      <td>Yes</td>\n",
       "      <td>Yes</td>\n",
       "      <td>Yes</td>\n",
       "      <td>Positive</td>\n",
       "    </tr>\n",
       "    <tr>\n",
       "      <th>...</th>\n",
       "      <td>...</td>\n",
       "      <td>...</td>\n",
       "      <td>...</td>\n",
       "      <td>...</td>\n",
       "      <td>...</td>\n",
       "      <td>...</td>\n",
       "      <td>...</td>\n",
       "      <td>...</td>\n",
       "      <td>...</td>\n",
       "      <td>...</td>\n",
       "      <td>...</td>\n",
       "      <td>...</td>\n",
       "      <td>...</td>\n",
       "      <td>...</td>\n",
       "      <td>...</td>\n",
       "      <td>...</td>\n",
       "      <td>...</td>\n",
       "    </tr>\n",
       "    <tr>\n",
       "      <th>515</th>\n",
       "      <td>39</td>\n",
       "      <td>Female</td>\n",
       "      <td>Yes</td>\n",
       "      <td>Yes</td>\n",
       "      <td>Yes</td>\n",
       "      <td>No</td>\n",
       "      <td>Yes</td>\n",
       "      <td>No</td>\n",
       "      <td>No</td>\n",
       "      <td>Yes</td>\n",
       "      <td>No</td>\n",
       "      <td>Yes</td>\n",
       "      <td>Yes</td>\n",
       "      <td>No</td>\n",
       "      <td>No</td>\n",
       "      <td>No</td>\n",
       "      <td>Positive</td>\n",
       "    </tr>\n",
       "    <tr>\n",
       "      <th>516</th>\n",
       "      <td>48</td>\n",
       "      <td>Female</td>\n",
       "      <td>Yes</td>\n",
       "      <td>Yes</td>\n",
       "      <td>Yes</td>\n",
       "      <td>Yes</td>\n",
       "      <td>Yes</td>\n",
       "      <td>No</td>\n",
       "      <td>No</td>\n",
       "      <td>Yes</td>\n",
       "      <td>Yes</td>\n",
       "      <td>Yes</td>\n",
       "      <td>Yes</td>\n",
       "      <td>No</td>\n",
       "      <td>No</td>\n",
       "      <td>No</td>\n",
       "      <td>Positive</td>\n",
       "    </tr>\n",
       "    <tr>\n",
       "      <th>517</th>\n",
       "      <td>58</td>\n",
       "      <td>Female</td>\n",
       "      <td>Yes</td>\n",
       "      <td>Yes</td>\n",
       "      <td>Yes</td>\n",
       "      <td>Yes</td>\n",
       "      <td>Yes</td>\n",
       "      <td>No</td>\n",
       "      <td>Yes</td>\n",
       "      <td>No</td>\n",
       "      <td>No</td>\n",
       "      <td>No</td>\n",
       "      <td>Yes</td>\n",
       "      <td>Yes</td>\n",
       "      <td>No</td>\n",
       "      <td>Yes</td>\n",
       "      <td>Positive</td>\n",
       "    </tr>\n",
       "    <tr>\n",
       "      <th>518</th>\n",
       "      <td>32</td>\n",
       "      <td>Female</td>\n",
       "      <td>No</td>\n",
       "      <td>No</td>\n",
       "      <td>No</td>\n",
       "      <td>Yes</td>\n",
       "      <td>No</td>\n",
       "      <td>No</td>\n",
       "      <td>Yes</td>\n",
       "      <td>Yes</td>\n",
       "      <td>No</td>\n",
       "      <td>Yes</td>\n",
       "      <td>No</td>\n",
       "      <td>No</td>\n",
       "      <td>Yes</td>\n",
       "      <td>No</td>\n",
       "      <td>Negative</td>\n",
       "    </tr>\n",
       "    <tr>\n",
       "      <th>519</th>\n",
       "      <td>42</td>\n",
       "      <td>Male</td>\n",
       "      <td>No</td>\n",
       "      <td>No</td>\n",
       "      <td>No</td>\n",
       "      <td>No</td>\n",
       "      <td>No</td>\n",
       "      <td>No</td>\n",
       "      <td>No</td>\n",
       "      <td>No</td>\n",
       "      <td>No</td>\n",
       "      <td>No</td>\n",
       "      <td>No</td>\n",
       "      <td>No</td>\n",
       "      <td>No</td>\n",
       "      <td>No</td>\n",
       "      <td>Negative</td>\n",
       "    </tr>\n",
       "  </tbody>\n",
       "</table>\n",
       "<p>520 rows × 17 columns</p>\n",
       "</div>"
      ],
      "text/plain": [
       "     Age  Gender Polyuria Polydipsia sudden weight loss weakness Polyphagia  \\\n",
       "0     40    Male       No        Yes                 No      Yes         No   \n",
       "1     58    Male       No         No                 No      Yes         No   \n",
       "2     41    Male      Yes         No                 No      Yes        Yes   \n",
       "3     45    Male       No         No                Yes      Yes        Yes   \n",
       "4     60    Male      Yes        Yes                Yes      Yes        Yes   \n",
       "..   ...     ...      ...        ...                ...      ...        ...   \n",
       "515   39  Female      Yes        Yes                Yes       No        Yes   \n",
       "516   48  Female      Yes        Yes                Yes      Yes        Yes   \n",
       "517   58  Female      Yes        Yes                Yes      Yes        Yes   \n",
       "518   32  Female       No         No                 No      Yes         No   \n",
       "519   42    Male       No         No                 No       No         No   \n",
       "\n",
       "    Genital thrush visual blurring Itching Irritability delayed healing  \\\n",
       "0               No              No     Yes           No             Yes   \n",
       "1               No             Yes      No           No              No   \n",
       "2               No              No     Yes           No             Yes   \n",
       "3              Yes              No     Yes           No             Yes   \n",
       "4               No             Yes     Yes          Yes             Yes   \n",
       "..             ...             ...     ...          ...             ...   \n",
       "515             No              No     Yes           No             Yes   \n",
       "516             No              No     Yes          Yes             Yes   \n",
       "517             No             Yes      No           No              No   \n",
       "518             No             Yes     Yes           No             Yes   \n",
       "519             No              No      No           No              No   \n",
       "\n",
       "    partial paresis muscle stiffness Alopecia Obesity     class  \n",
       "0                No              Yes      Yes     Yes  Positive  \n",
       "1               Yes               No      Yes      No  Positive  \n",
       "2                No              Yes      Yes      No  Positive  \n",
       "3                No               No       No      No  Positive  \n",
       "4               Yes              Yes      Yes     Yes  Positive  \n",
       "..              ...              ...      ...     ...       ...  \n",
       "515             Yes               No       No      No  Positive  \n",
       "516             Yes               No       No      No  Positive  \n",
       "517             Yes              Yes       No     Yes  Positive  \n",
       "518              No               No      Yes      No  Negative  \n",
       "519              No               No       No      No  Negative  \n",
       "\n",
       "[520 rows x 17 columns]"
      ]
     },
     "execution_count": 3,
     "metadata": {},
     "output_type": "execute_result"
    }
   ],
   "source": [
    "data"
   ]
  },
  {
   "cell_type": "code",
   "execution_count": 4,
   "id": "f90795b4-3531-4d90-a436-51aa0884ad66",
   "metadata": {},
   "outputs": [
    {
     "name": "stdout",
     "output_type": "stream",
     "text": [
      "<class 'pandas.core.frame.DataFrame'>\n",
      "RangeIndex: 520 entries, 0 to 519\n",
      "Data columns (total 17 columns):\n",
      " #   Column              Non-Null Count  Dtype \n",
      "---  ------              --------------  ----- \n",
      " 0   Age                 520 non-null    int64 \n",
      " 1   Gender              520 non-null    object\n",
      " 2   Polyuria            520 non-null    object\n",
      " 3   Polydipsia          520 non-null    object\n",
      " 4   sudden weight loss  520 non-null    object\n",
      " 5   weakness            520 non-null    object\n",
      " 6   Polyphagia          520 non-null    object\n",
      " 7   Genital thrush      520 non-null    object\n",
      " 8   visual blurring     520 non-null    object\n",
      " 9   Itching             520 non-null    object\n",
      " 10  Irritability        520 non-null    object\n",
      " 11  delayed healing     520 non-null    object\n",
      " 12  partial paresis     520 non-null    object\n",
      " 13  muscle stiffness    520 non-null    object\n",
      " 14  Alopecia            520 non-null    object\n",
      " 15  Obesity             520 non-null    object\n",
      " 16  class               520 non-null    object\n",
      "dtypes: int64(1), object(16)\n",
      "memory usage: 69.2+ KB\n"
     ]
    }
   ],
   "source": [
    "data.info()"
   ]
  },
  {
   "cell_type": "markdown",
   "id": "0ee75f3c-85e5-40c3-87fa-ba8940401506",
   "metadata": {},
   "source": [
    "# Preprocessing"
   ]
  },
  {
   "cell_type": "code",
   "execution_count": 5,
   "id": "63151ca0-2d3f-48e1-b502-71f653ba6e3d",
   "metadata": {},
   "outputs": [
    {
     "data": {
      "text/plain": [
       "{'Age': 51,\n",
       " 'Gender': 2,\n",
       " 'Polyuria': 2,\n",
       " 'Polydipsia': 2,\n",
       " 'sudden weight loss': 2,\n",
       " 'weakness': 2,\n",
       " 'Polyphagia': 2,\n",
       " 'Genital thrush': 2,\n",
       " 'visual blurring': 2,\n",
       " 'Itching': 2,\n",
       " 'Irritability': 2,\n",
       " 'delayed healing': 2,\n",
       " 'partial paresis': 2,\n",
       " 'muscle stiffness': 2,\n",
       " 'Alopecia': 2,\n",
       " 'Obesity': 2,\n",
       " 'class': 2}"
      ]
     },
     "execution_count": 5,
     "metadata": {},
     "output_type": "execute_result"
    }
   ],
   "source": [
    "{column: len(data[column].unique()) for column in data.columns}"
   ]
  },
  {
   "cell_type": "code",
   "execution_count": 6,
   "id": "cc6c1df7",
   "metadata": {},
   "outputs": [
    {
     "data": {
      "text/plain": [
       "Age                   0\n",
       "Gender                0\n",
       "Polyuria              0\n",
       "Polydipsia            0\n",
       "sudden weight loss    0\n",
       "weakness              0\n",
       "Polyphagia            0\n",
       "Genital thrush        0\n",
       "visual blurring       0\n",
       "Itching               0\n",
       "Irritability          0\n",
       "delayed healing       0\n",
       "partial paresis       0\n",
       "muscle stiffness      0\n",
       "Alopecia              0\n",
       "Obesity               0\n",
       "class                 0\n",
       "dtype: int64"
      ]
     },
     "execution_count": 6,
     "metadata": {},
     "output_type": "execute_result"
    }
   ],
   "source": [
    "data.isnull().sum()"
   ]
  },
  {
   "cell_type": "code",
   "execution_count": 52,
   "id": "e6e64922",
   "metadata": {},
   "outputs": [
    {
     "data": {
      "text/plain": [
       "<AxesSubplot:xlabel='Age', ylabel='Density'>"
      ]
     },
     "execution_count": 52,
     "metadata": {},
     "output_type": "execute_result"
    },
    {
     "data": {
      "image/png": "[encoded data removed]",
      "text/plain": [
       "<Figure size 432x288 with 1 Axes>"
      ]
     },
     "metadata": {
      "needs_background": "light"
     },
     "output_type": "display_data"
    }
   ],
   "source": [
    "sns.kdeplot(x = 'Age', data = data)"
   ]
  },
  {
   "cell_type": "markdown",
   "id": "be9cd7b2-be06-4c02-a336-e319c495a6dd",
   "metadata": {},
   "source": [
    "# Train-Test Split"
   ]
  },
  {
   "cell_type": "code",
   "execution_count": 7,
   "id": "a5621097-9522-48ee-9c85-58b30e9573e9",
   "metadata": {},
   "outputs": [],
   "source": [
    "def preprocess_inputs(df):\n",
    "    df = df.copy()\n",
    "    # Binary encode Gender column\n",
    "    df['Gender'] = df['Gender'].replace({'Female': 0, 'Male': 1})\n",
    "    \n",
    "    # Binary encode symptom columns\n",
    "    for column in df.columns.drop(['Age', 'Gender', 'class']):\n",
    "        df[column] = df[column].replace({'Yes': 0, 'No': 1})\n",
    "    #Split df into X and y\n",
    "    y = df['class']\n",
    "    X = df.drop('class', axis=1)\n",
    "    #X_train, X_test, y_train, y_test = train_test_split(X, y, train_size=0.7, shuffle=True, random_state=1)\n",
    "    X_train, X_rem, y_train, y_rem = train_test_split(X,y, train_size=0.8, shuffle=True, random_state=1)\n",
    "    X_val, X_test, y_val, y_test = train_test_split(X_rem,y_rem, test_size=0.5, shuffle=True, random_state=1)\n",
    "    \n",
    "    #Scale X\n",
    "    scaler = StandardScaler()\n",
    "    scaler.fit(X_train)\n",
    "    X_train = pd.DataFrame(scaler.transform(X_train), index=X_train.index, columns=X_train.columns)\n",
    "    X_test = pd.DataFrame(scaler.transform(X_test), index=X_test.index, columns=X_test.columns)\n",
    "    \n",
    "    return X_train, X_test, X_val, y_train, y_test,y_val"
   ]
  },
  {
   "cell_type": "code",
   "execution_count": 9,
   "id": "7cb0ed13-15f5-4f86-a767-3ca630f413e6",
   "metadata": {},
   "outputs": [],
   "source": [
    "X_train, X_test, X_val, y_train, y_test, y_val = preprocess_inputs(data)"
   ]
  },
  {
   "cell_type": "code",
   "execution_count": 10,
   "id": "81e63d43-9e6e-4f2b-8b84-1763953a715a",
   "metadata": {},
   "outputs": [
    {
     "data": {
      "text/html": [
       "<div>\n",
       "<style scoped>\n",
       "    .dataframe tbody tr th:only-of-type {\n",
       "        vertical-align: middle;\n",
       "    }\n",
       "\n",
       "    .dataframe tbody tr th {\n",
       "        vertical-align: top;\n",
       "    }\n",
       "\n",
       "    .dataframe thead th {\n",
       "        text-align: right;\n",
       "    }\n",
       "</style>\n",
       "<table border=\"1\" class=\"dataframe\">\n",
       "  <thead>\n",
       "    <tr style=\"text-align: right;\">\n",
       "      <th></th>\n",
       "      <th>Age</th>\n",
       "      <th>Gender</th>\n",
       "      <th>Polyuria</th>\n",
       "      <th>Polydipsia</th>\n",
       "      <th>sudden weight loss</th>\n",
       "      <th>weakness</th>\n",
       "      <th>Polyphagia</th>\n",
       "      <th>Genital thrush</th>\n",
       "      <th>visual blurring</th>\n",
       "      <th>Itching</th>\n",
       "      <th>Irritability</th>\n",
       "      <th>delayed healing</th>\n",
       "      <th>partial paresis</th>\n",
       "      <th>muscle stiffness</th>\n",
       "      <th>Alopecia</th>\n",
       "      <th>Obesity</th>\n",
       "    </tr>\n",
       "  </thead>\n",
       "  <tbody>\n",
       "    <tr>\n",
       "      <th>201</th>\n",
       "      <td>-1.657346</td>\n",
       "      <td>0.766672</td>\n",
       "      <td>1.0</td>\n",
       "      <td>0.886232</td>\n",
       "      <td>-1.196975</td>\n",
       "      <td>1.202938</td>\n",
       "      <td>0.903656</td>\n",
       "      <td>0.558841</td>\n",
       "      <td>0.869065</td>\n",
       "      <td>0.957628</td>\n",
       "      <td>0.581051</td>\n",
       "      <td>0.930307</td>\n",
       "      <td>0.877618</td>\n",
       "      <td>0.739235</td>\n",
       "      <td>0.739235</td>\n",
       "      <td>0.445923</td>\n",
       "    </tr>\n",
       "    <tr>\n",
       "      <th>92</th>\n",
       "      <td>-0.657531</td>\n",
       "      <td>-1.304338</td>\n",
       "      <td>-1.0</td>\n",
       "      <td>-1.128372</td>\n",
       "      <td>-1.196975</td>\n",
       "      <td>-0.831298</td>\n",
       "      <td>0.903656</td>\n",
       "      <td>0.558841</td>\n",
       "      <td>-1.150662</td>\n",
       "      <td>0.957628</td>\n",
       "      <td>0.581051</td>\n",
       "      <td>-1.074914</td>\n",
       "      <td>-1.139448</td>\n",
       "      <td>-1.352750</td>\n",
       "      <td>0.739235</td>\n",
       "      <td>0.445923</td>\n",
       "    </tr>\n",
       "    <tr>\n",
       "      <th>344</th>\n",
       "      <td>1.092146</td>\n",
       "      <td>-1.304338</td>\n",
       "      <td>-1.0</td>\n",
       "      <td>0.886232</td>\n",
       "      <td>0.835440</td>\n",
       "      <td>1.202938</td>\n",
       "      <td>-1.106616</td>\n",
       "      <td>0.558841</td>\n",
       "      <td>0.869065</td>\n",
       "      <td>0.957628</td>\n",
       "      <td>-1.721019</td>\n",
       "      <td>0.930307</td>\n",
       "      <td>0.877618</td>\n",
       "      <td>0.739235</td>\n",
       "      <td>-1.352750</td>\n",
       "      <td>0.445923</td>\n",
       "    </tr>\n",
       "    <tr>\n",
       "      <th>119</th>\n",
       "      <td>-1.157438</td>\n",
       "      <td>-1.304338</td>\n",
       "      <td>-1.0</td>\n",
       "      <td>-1.128372</td>\n",
       "      <td>0.835440</td>\n",
       "      <td>-0.831298</td>\n",
       "      <td>0.903656</td>\n",
       "      <td>0.558841</td>\n",
       "      <td>0.869065</td>\n",
       "      <td>0.957628</td>\n",
       "      <td>-1.721019</td>\n",
       "      <td>0.930307</td>\n",
       "      <td>0.877618</td>\n",
       "      <td>-1.352750</td>\n",
       "      <td>0.739235</td>\n",
       "      <td>0.445923</td>\n",
       "    </tr>\n",
       "    <tr>\n",
       "      <th>221</th>\n",
       "      <td>-0.407577</td>\n",
       "      <td>0.766672</td>\n",
       "      <td>1.0</td>\n",
       "      <td>0.886232</td>\n",
       "      <td>0.835440</td>\n",
       "      <td>-0.831298</td>\n",
       "      <td>0.903656</td>\n",
       "      <td>-1.789419</td>\n",
       "      <td>0.869065</td>\n",
       "      <td>-1.044247</td>\n",
       "      <td>0.581051</td>\n",
       "      <td>-1.074914</td>\n",
       "      <td>0.877618</td>\n",
       "      <td>0.739235</td>\n",
       "      <td>-1.352750</td>\n",
       "      <td>0.445923</td>\n",
       "    </tr>\n",
       "    <tr>\n",
       "      <th>...</th>\n",
       "      <td>...</td>\n",
       "      <td>...</td>\n",
       "      <td>...</td>\n",
       "      <td>...</td>\n",
       "      <td>...</td>\n",
       "      <td>...</td>\n",
       "      <td>...</td>\n",
       "      <td>...</td>\n",
       "      <td>...</td>\n",
       "      <td>...</td>\n",
       "      <td>...</td>\n",
       "      <td>...</td>\n",
       "      <td>...</td>\n",
       "      <td>...</td>\n",
       "      <td>...</td>\n",
       "      <td>...</td>\n",
       "    </tr>\n",
       "    <tr>\n",
       "      <th>129</th>\n",
       "      <td>0.009013</td>\n",
       "      <td>0.766672</td>\n",
       "      <td>-1.0</td>\n",
       "      <td>-1.128372</td>\n",
       "      <td>-1.196975</td>\n",
       "      <td>-0.831298</td>\n",
       "      <td>0.903656</td>\n",
       "      <td>0.558841</td>\n",
       "      <td>0.869065</td>\n",
       "      <td>-1.044247</td>\n",
       "      <td>0.581051</td>\n",
       "      <td>0.930307</td>\n",
       "      <td>-1.139448</td>\n",
       "      <td>0.739235</td>\n",
       "      <td>-1.352750</td>\n",
       "      <td>0.445923</td>\n",
       "    </tr>\n",
       "    <tr>\n",
       "      <th>144</th>\n",
       "      <td>1.675372</td>\n",
       "      <td>0.766672</td>\n",
       "      <td>-1.0</td>\n",
       "      <td>-1.128372</td>\n",
       "      <td>0.835440</td>\n",
       "      <td>1.202938</td>\n",
       "      <td>-1.106616</td>\n",
       "      <td>0.558841</td>\n",
       "      <td>-1.150662</td>\n",
       "      <td>-1.044247</td>\n",
       "      <td>-1.721019</td>\n",
       "      <td>0.930307</td>\n",
       "      <td>-1.139448</td>\n",
       "      <td>0.739235</td>\n",
       "      <td>0.739235</td>\n",
       "      <td>0.445923</td>\n",
       "    </tr>\n",
       "    <tr>\n",
       "      <th>72</th>\n",
       "      <td>1.425418</td>\n",
       "      <td>-1.304338</td>\n",
       "      <td>1.0</td>\n",
       "      <td>0.886232</td>\n",
       "      <td>0.835440</td>\n",
       "      <td>1.202938</td>\n",
       "      <td>0.903656</td>\n",
       "      <td>-1.789419</td>\n",
       "      <td>0.869065</td>\n",
       "      <td>0.957628</td>\n",
       "      <td>0.581051</td>\n",
       "      <td>0.930307</td>\n",
       "      <td>0.877618</td>\n",
       "      <td>0.739235</td>\n",
       "      <td>0.739235</td>\n",
       "      <td>0.445923</td>\n",
       "    </tr>\n",
       "    <tr>\n",
       "      <th>235</th>\n",
       "      <td>-1.823982</td>\n",
       "      <td>0.766672</td>\n",
       "      <td>1.0</td>\n",
       "      <td>0.886232</td>\n",
       "      <td>0.835440</td>\n",
       "      <td>1.202938</td>\n",
       "      <td>0.903656</td>\n",
       "      <td>0.558841</td>\n",
       "      <td>0.869065</td>\n",
       "      <td>0.957628</td>\n",
       "      <td>0.581051</td>\n",
       "      <td>0.930307</td>\n",
       "      <td>0.877618</td>\n",
       "      <td>0.739235</td>\n",
       "      <td>0.739235</td>\n",
       "      <td>0.445923</td>\n",
       "    </tr>\n",
       "    <tr>\n",
       "      <th>37</th>\n",
       "      <td>1.258782</td>\n",
       "      <td>0.766672</td>\n",
       "      <td>-1.0</td>\n",
       "      <td>-1.128372</td>\n",
       "      <td>-1.196975</td>\n",
       "      <td>-0.831298</td>\n",
       "      <td>-1.106616</td>\n",
       "      <td>0.558841</td>\n",
       "      <td>-1.150662</td>\n",
       "      <td>0.957628</td>\n",
       "      <td>0.581051</td>\n",
       "      <td>0.930307</td>\n",
       "      <td>0.877618</td>\n",
       "      <td>-1.352750</td>\n",
       "      <td>-1.352750</td>\n",
       "      <td>-2.242540</td>\n",
       "    </tr>\n",
       "  </tbody>\n",
       "</table>\n",
       "<p>416 rows × 16 columns</p>\n",
       "</div>"
      ],
      "text/plain": [
       "          Age    Gender  Polyuria  Polydipsia  sudden weight loss  weakness  \\\n",
       "201 -1.657346  0.766672       1.0    0.886232           -1.196975  1.202938   \n",
       "92  -0.657531 -1.304338      -1.0   -1.128372           -1.196975 -0.831298   \n",
       "344  1.092146 -1.304338      -1.0    0.886232            0.835440  1.202938   \n",
       "119 -1.157438 -1.304338      -1.0   -1.128372            0.835440 -0.831298   \n",
       "221 -0.407577  0.766672       1.0    0.886232            0.835440 -0.831298   \n",
       "..        ...       ...       ...         ...                 ...       ...   \n",
       "129  0.009013  0.766672      -1.0   -1.128372           -1.196975 -0.831298   \n",
       "144  1.675372  0.766672      -1.0   -1.128372            0.835440  1.202938   \n",
       "72   1.425418 -1.304338       1.0    0.886232            0.835440  1.202938   \n",
       "235 -1.823982  0.766672       1.0    0.886232            0.835440  1.202938   \n",
       "37   1.258782  0.766672      -1.0   -1.128372           -1.196975 -0.831298   \n",
       "\n",
       "     Polyphagia  Genital thrush  visual blurring   Itching  Irritability  \\\n",
       "201    0.903656        0.558841         0.869065  0.957628      0.581051   \n",
       "92     0.903656        0.558841        -1.150662  0.957628      0.581051   \n",
       "344   -1.106616        0.558841         0.869065  0.957628     -1.721019   \n",
       "119    0.903656        0.558841         0.869065  0.957628     -1.721019   \n",
       "221    0.903656       -1.789419         0.869065 -1.044247      0.581051   \n",
       "..          ...             ...              ...       ...           ...   \n",
       "129    0.903656        0.558841         0.869065 -1.044247      0.581051   \n",
       "144   -1.106616        0.558841        -1.150662 -1.044247     -1.721019   \n",
       "72     0.903656       -1.789419         0.869065  0.957628      0.581051   \n",
       "235    0.903656        0.558841         0.869065  0.957628      0.581051   \n",
       "37    -1.106616        0.558841        -1.150662  0.957628      0.581051   \n",
       "\n",
       "     delayed healing  partial paresis  muscle stiffness  Alopecia   Obesity  \n",
       "201         0.930307         0.877618          0.739235  0.739235  0.445923  \n",
       "92         -1.074914        -1.139448         -1.352750  0.739235  0.445923  \n",
       "344         0.930307         0.877618          0.739235 -1.352750  0.445923  \n",
       "119         0.930307         0.877618         -1.352750  0.739235  0.445923  \n",
       "221        -1.074914         0.877618          0.739235 -1.352750  0.445923  \n",
       "..               ...              ...               ...       ...       ...  \n",
       "129         0.930307        -1.139448          0.739235 -1.352750  0.445923  \n",
       "144         0.930307        -1.139448          0.739235  0.739235  0.445923  \n",
       "72          0.930307         0.877618          0.739235  0.739235  0.445923  \n",
       "235         0.930307         0.877618          0.739235  0.739235  0.445923  \n",
       "37          0.930307         0.877618         -1.352750 -1.352750 -2.242540  \n",
       "\n",
       "[416 rows x 16 columns]"
      ]
     },
     "execution_count": 10,
     "metadata": {},
     "output_type": "execute_result"
    }
   ],
   "source": [
    "X_train"
   ]
  },
  {
   "cell_type": "code",
   "execution_count": 11,
   "id": "d2581fa0-3fd8-4c0f-84c8-3a27cc1b349e",
   "metadata": {},
   "outputs": [
    {
     "data": {
      "text/html": [
       "<div>\n",
       "<style scoped>\n",
       "    .dataframe tbody tr th:only-of-type {\n",
       "        vertical-align: middle;\n",
       "    }\n",
       "\n",
       "    .dataframe tbody tr th {\n",
       "        vertical-align: top;\n",
       "    }\n",
       "\n",
       "    .dataframe thead th {\n",
       "        text-align: right;\n",
       "    }\n",
       "</style>\n",
       "<table border=\"1\" class=\"dataframe\">\n",
       "  <thead>\n",
       "    <tr style=\"text-align: right;\">\n",
       "      <th></th>\n",
       "      <th>Age</th>\n",
       "      <th>Gender</th>\n",
       "      <th>Polyuria</th>\n",
       "      <th>Polydipsia</th>\n",
       "      <th>sudden weight loss</th>\n",
       "      <th>weakness</th>\n",
       "      <th>Polyphagia</th>\n",
       "      <th>Genital thrush</th>\n",
       "      <th>visual blurring</th>\n",
       "      <th>Itching</th>\n",
       "      <th>Irritability</th>\n",
       "      <th>delayed healing</th>\n",
       "      <th>partial paresis</th>\n",
       "      <th>muscle stiffness</th>\n",
       "      <th>Alopecia</th>\n",
       "      <th>Obesity</th>\n",
       "    </tr>\n",
       "  </thead>\n",
       "  <tbody>\n",
       "    <tr>\n",
       "      <th>count</th>\n",
       "      <td>4.160000e+02</td>\n",
       "      <td>4.160000e+02</td>\n",
       "      <td>416.000000</td>\n",
       "      <td>4.160000e+02</td>\n",
       "      <td>4.160000e+02</td>\n",
       "      <td>4.160000e+02</td>\n",
       "      <td>4.160000e+02</td>\n",
       "      <td>4.160000e+02</td>\n",
       "      <td>4.160000e+02</td>\n",
       "      <td>4.160000e+02</td>\n",
       "      <td>4.160000e+02</td>\n",
       "      <td>4.160000e+02</td>\n",
       "      <td>4.160000e+02</td>\n",
       "      <td>4.160000e+02</td>\n",
       "      <td>4.160000e+02</td>\n",
       "      <td>4.160000e+02</td>\n",
       "    </tr>\n",
       "    <tr>\n",
       "      <th>mean</th>\n",
       "      <td>2.930348e-16</td>\n",
       "      <td>3.469447e-17</td>\n",
       "      <td>0.000000</td>\n",
       "      <td>-1.521219e-16</td>\n",
       "      <td>-1.505206e-16</td>\n",
       "      <td>-1.267683e-16</td>\n",
       "      <td>-1.216975e-16</td>\n",
       "      <td>1.120898e-17</td>\n",
       "      <td>1.323727e-16</td>\n",
       "      <td>1.014146e-17</td>\n",
       "      <td>-1.665335e-16</td>\n",
       "      <td>-2.898323e-16</td>\n",
       "      <td>-8.486801e-17</td>\n",
       "      <td>-2.215108e-16</td>\n",
       "      <td>-2.220446e-16</td>\n",
       "      <td>-3.298643e-16</td>\n",
       "    </tr>\n",
       "    <tr>\n",
       "      <th>std</th>\n",
       "      <td>1.001204e+00</td>\n",
       "      <td>1.001204e+00</td>\n",
       "      <td>1.001204</td>\n",
       "      <td>1.001204e+00</td>\n",
       "      <td>1.001204e+00</td>\n",
       "      <td>1.001204e+00</td>\n",
       "      <td>1.001204e+00</td>\n",
       "      <td>1.001204e+00</td>\n",
       "      <td>1.001204e+00</td>\n",
       "      <td>1.001204e+00</td>\n",
       "      <td>1.001204e+00</td>\n",
       "      <td>1.001204e+00</td>\n",
       "      <td>1.001204e+00</td>\n",
       "      <td>1.001204e+00</td>\n",
       "      <td>1.001204e+00</td>\n",
       "      <td>1.001204e+00</td>\n",
       "    </tr>\n",
       "    <tr>\n",
       "      <th>min</th>\n",
       "      <td>-1.907300e+00</td>\n",
       "      <td>-1.304338e+00</td>\n",
       "      <td>-1.000000</td>\n",
       "      <td>-1.128372e+00</td>\n",
       "      <td>-1.196975e+00</td>\n",
       "      <td>-8.312983e-01</td>\n",
       "      <td>-1.106616e+00</td>\n",
       "      <td>-1.789419e+00</td>\n",
       "      <td>-1.150662e+00</td>\n",
       "      <td>-1.044247e+00</td>\n",
       "      <td>-1.721019e+00</td>\n",
       "      <td>-1.074914e+00</td>\n",
       "      <td>-1.139448e+00</td>\n",
       "      <td>-1.352750e+00</td>\n",
       "      <td>-1.352750e+00</td>\n",
       "      <td>-2.242540e+00</td>\n",
       "    </tr>\n",
       "    <tr>\n",
       "      <th>25%</th>\n",
       "      <td>-7.408487e-01</td>\n",
       "      <td>-1.304338e+00</td>\n",
       "      <td>-1.000000</td>\n",
       "      <td>-1.128372e+00</td>\n",
       "      <td>-1.196975e+00</td>\n",
       "      <td>-8.312983e-01</td>\n",
       "      <td>-1.106616e+00</td>\n",
       "      <td>5.588406e-01</td>\n",
       "      <td>-1.150662e+00</td>\n",
       "      <td>-1.044247e+00</td>\n",
       "      <td>-1.721019e+00</td>\n",
       "      <td>-1.074914e+00</td>\n",
       "      <td>-1.139448e+00</td>\n",
       "      <td>-1.352750e+00</td>\n",
       "      <td>-1.352750e+00</td>\n",
       "      <td>4.459229e-01</td>\n",
       "    </tr>\n",
       "    <tr>\n",
       "      <th>50%</th>\n",
       "      <td>-7.430519e-02</td>\n",
       "      <td>7.666722e-01</td>\n",
       "      <td>0.000000</td>\n",
       "      <td>8.862323e-01</td>\n",
       "      <td>8.354395e-01</td>\n",
       "      <td>-8.312983e-01</td>\n",
       "      <td>9.036558e-01</td>\n",
       "      <td>5.588406e-01</td>\n",
       "      <td>8.690652e-01</td>\n",
       "      <td>9.576276e-01</td>\n",
       "      <td>5.810513e-01</td>\n",
       "      <td>9.303069e-01</td>\n",
       "      <td>8.776177e-01</td>\n",
       "      <td>7.392350e-01</td>\n",
       "      <td>7.392350e-01</td>\n",
       "      <td>4.459229e-01</td>\n",
       "    </tr>\n",
       "    <tr>\n",
       "      <th>75%</th>\n",
       "      <td>6.755563e-01</td>\n",
       "      <td>7.666722e-01</td>\n",
       "      <td>1.000000</td>\n",
       "      <td>8.862323e-01</td>\n",
       "      <td>8.354395e-01</td>\n",
       "      <td>1.202938e+00</td>\n",
       "      <td>9.036558e-01</td>\n",
       "      <td>5.588406e-01</td>\n",
       "      <td>8.690652e-01</td>\n",
       "      <td>9.576276e-01</td>\n",
       "      <td>5.810513e-01</td>\n",
       "      <td>9.303069e-01</td>\n",
       "      <td>8.776177e-01</td>\n",
       "      <td>7.392350e-01</td>\n",
       "      <td>7.392350e-01</td>\n",
       "      <td>4.459229e-01</td>\n",
       "    </tr>\n",
       "    <tr>\n",
       "      <th>max</th>\n",
       "      <td>3.508366e+00</td>\n",
       "      <td>7.666722e-01</td>\n",
       "      <td>1.000000</td>\n",
       "      <td>8.862323e-01</td>\n",
       "      <td>8.354395e-01</td>\n",
       "      <td>1.202938e+00</td>\n",
       "      <td>9.036558e-01</td>\n",
       "      <td>5.588406e-01</td>\n",
       "      <td>8.690652e-01</td>\n",
       "      <td>9.576276e-01</td>\n",
       "      <td>5.810513e-01</td>\n",
       "      <td>9.303069e-01</td>\n",
       "      <td>8.776177e-01</td>\n",
       "      <td>7.392350e-01</td>\n",
       "      <td>7.392350e-01</td>\n",
       "      <td>4.459229e-01</td>\n",
       "    </tr>\n",
       "  </tbody>\n",
       "</table>\n",
       "</div>"
      ],
      "text/plain": [
       "                Age        Gender    Polyuria    Polydipsia  \\\n",
       "count  4.160000e+02  4.160000e+02  416.000000  4.160000e+02   \n",
       "mean   2.930348e-16  3.469447e-17    0.000000 -1.521219e-16   \n",
       "std    1.001204e+00  1.001204e+00    1.001204  1.001204e+00   \n",
       "min   -1.907300e+00 -1.304338e+00   -1.000000 -1.128372e+00   \n",
       "25%   -7.408487e-01 -1.304338e+00   -1.000000 -1.128372e+00   \n",
       "50%   -7.430519e-02  7.666722e-01    0.000000  8.862323e-01   \n",
       "75%    6.755563e-01  7.666722e-01    1.000000  8.862323e-01   \n",
       "max    3.508366e+00  7.666722e-01    1.000000  8.862323e-01   \n",
       "\n",
       "       sudden weight loss      weakness    Polyphagia  Genital thrush  \\\n",
       "count        4.160000e+02  4.160000e+02  4.160000e+02    4.160000e+02   \n",
       "mean        -1.505206e-16 -1.267683e-16 -1.216975e-16    1.120898e-17   \n",
       "std          1.001204e+00  1.001204e+00  1.001204e+00    1.001204e+00   \n",
       "min         -1.196975e+00 -8.312983e-01 -1.106616e+00   -1.789419e+00   \n",
       "25%         -1.196975e+00 -8.312983e-01 -1.106616e+00    5.588406e-01   \n",
       "50%          8.354395e-01 -8.312983e-01  9.036558e-01    5.588406e-01   \n",
       "75%          8.354395e-01  1.202938e+00  9.036558e-01    5.588406e-01   \n",
       "max          8.354395e-01  1.202938e+00  9.036558e-01    5.588406e-01   \n",
       "\n",
       "       visual blurring       Itching  Irritability  delayed healing  \\\n",
       "count     4.160000e+02  4.160000e+02  4.160000e+02     4.160000e+02   \n",
       "mean      1.323727e-16  1.014146e-17 -1.665335e-16    -2.898323e-16   \n",
       "std       1.001204e+00  1.001204e+00  1.001204e+00     1.001204e+00   \n",
       "min      -1.150662e+00 -1.044247e+00 -1.721019e+00    -1.074914e+00   \n",
       "25%      -1.150662e+00 -1.044247e+00 -1.721019e+00    -1.074914e+00   \n",
       "50%       8.690652e-01  9.576276e-01  5.810513e-01     9.303069e-01   \n",
       "75%       8.690652e-01  9.576276e-01  5.810513e-01     9.303069e-01   \n",
       "max       8.690652e-01  9.576276e-01  5.810513e-01     9.303069e-01   \n",
       "\n",
       "       partial paresis  muscle stiffness      Alopecia       Obesity  \n",
       "count     4.160000e+02      4.160000e+02  4.160000e+02  4.160000e+02  \n",
       "mean     -8.486801e-17     -2.215108e-16 -2.220446e-16 -3.298643e-16  \n",
       "std       1.001204e+00      1.001204e+00  1.001204e+00  1.001204e+00  \n",
       "min      -1.139448e+00     -1.352750e+00 -1.352750e+00 -2.242540e+00  \n",
       "25%      -1.139448e+00     -1.352750e+00 -1.352750e+00  4.459229e-01  \n",
       "50%       8.776177e-01      7.392350e-01  7.392350e-01  4.459229e-01  \n",
       "75%       8.776177e-01      7.392350e-01  7.392350e-01  4.459229e-01  \n",
       "max       8.776177e-01      7.392350e-01  7.392350e-01  4.459229e-01  "
      ]
     },
     "execution_count": 11,
     "metadata": {},
     "output_type": "execute_result"
    }
   ],
   "source": [
    "X_train.describe()"
   ]
  },
  {
   "cell_type": "code",
   "execution_count": 14,
   "id": "96fa233a-6746-4023-b44b-b0917c8ba0c4",
   "metadata": {},
   "outputs": [
    {
     "name": "stdout",
     "output_type": "stream",
     "text": [
      "Training Set : 416\n",
      "Testing Set : 52 \n",
      "Validation Set : 52 \n"
     ]
    }
   ],
   "source": [
    "print(f'Training Set : {X_train.shape[0]}')\n",
    "print(f'Testing Set : {X_test.shape[0]} ')\n",
    "print(f'Validation Set : {X_val.shape[0]} ')"
   ]
  },
  {
   "cell_type": "markdown",
   "id": "15c2de51-0983-4f9c-8620-a9cb5c55daf4",
   "metadata": {},
   "source": [
    "# Training"
   ]
  },
  {
   "cell_type": "code",
   "execution_count": 17,
   "id": "6094ec3f-0648-4d43-a35d-05e5c879284d",
   "metadata": {},
   "outputs": [
    {
     "name": "stdout",
     "output_type": "stream",
     "text": [
      "Logistic Regression trained.\n",
      "K-Nearest Neighbors trained.\n",
      "Decision Treee trained.\n",
      "Support Vector Machine (Linear Kernel) trained.\n",
      "Support Vector Machine (RBF Kernel) trained.\n"
     ]
    },
    {
     "name": "stderr",
     "output_type": "stream",
     "text": [
      "C:\\Users\\88016\\anaconda3\\envs\\new-project\\lib\\site-packages\\sklearn\\neural_network\\_multilayer_perceptron.py:692: ConvergenceWarning: Stochastic Optimizer: Maximum iterations (200) reached and the optimization hasn't converged yet.\n",
      "  warnings.warn(\n"
     ]
    },
    {
     "name": "stdout",
     "output_type": "stream",
     "text": [
      "Neural Network trained.\n",
      "Random Forest trained.\n",
      "Gradient Boosting trained.\n"
     ]
    }
   ],
   "source": [
    "models = {\n",
    "                    \"Logistic Regression\": LogisticRegression(),\n",
    "                    \"K-Nearest Neighbors\": KNeighborsClassifier(),\n",
    "                         \"Decision Treee\": DecisionTreeClassifier(),\n",
    " \"Support Vector Machine (Linear Kernel)\": LinearSVC(),\n",
    "   \"Support Vector Machine (RBF Kernel)\": SVC(),\n",
    "                       \"Neural Network\": MLPClassifier(),\n",
    "                       \"Random Forest\": RandomForestClassifier(),\n",
    "                  \"Gradient Boosting\": GradientBoostingClassifier()\n",
    "\n",
    "}\n",
    "for name, model in models.items():\n",
    "    model.fit(X_train, y_train)\n",
    "    print(name + \" trained.\")"
   ]
  },
  {
   "cell_type": "code",
   "execution_count": 18,
   "id": "acb23009-7cfe-4692-8d36-f92e512e2e03",
   "metadata": {},
   "outputs": [
    {
     "name": "stdout",
     "output_type": "stream",
     "text": [
      "Logistic Regression: 38.46%\n",
      "K-Nearest Neighbors: 61.54%\n",
      "Decision Treee: 53.85%\n",
      "Support Vector Machine (Linear Kernel): 38.46%\n",
      "Support Vector Machine (RBF Kernel): 61.54%\n",
      "Neural Network: 61.54%\n",
      "Random Forest: 84.62%\n",
      "Gradient Boosting: 76.92%\n"
     ]
    }
   ],
   "source": [
    "for name, model in models.items():\n",
    "    print(name + ': {:.2f}%'.format(model.score(X_val, y_val)*100))"
   ]
  },
  {
   "cell_type": "markdown",
   "id": "c4e26406",
   "metadata": {},
   "source": [
    "# Gradient Boosting Classifier"
   ]
  },
  {
   "cell_type": "code",
   "execution_count": 31,
   "id": "53cff3e9",
   "metadata": {},
   "outputs": [
    {
     "name": "stdout",
     "output_type": "stream",
     "text": [
      "Accuracy score:  0.8461538461538461\n"
     ]
    }
   ],
   "source": [
    "gb_clf = GradientBoostingClassifier(n_estimators=20, learning_rate=0.75, max_features=2, max_depth=2, random_state=0)\n",
    "gb_clf.fit(X_train, y_train)\n",
    "y_pred=gb_clf.predict(X_val)\n",
    "print(\"Accuracy score: \",metrics.accuracy_score(y_val, y_pred))"
   ]
  },
  {
   "cell_type": "code",
   "execution_count": 32,
   "id": "e23f623d",
   "metadata": {},
   "outputs": [
    {
     "data": {
      "image/png": "[encoded data removed]",
      "text/plain": [
       "<Figure size 432x288 with 1 Axes>"
      ]
     },
     "metadata": {
      "needs_background": "light"
     },
     "output_type": "display_data"
    }
   ],
   "source": [
    "cm = confusion_matrix(y_test,y_pred)\n",
    "sns.heatmap(cm, cbar=False, annot=True)\n",
    "plt.show()"
   ]
  },
  {
   "cell_type": "markdown",
   "id": "e3665934",
   "metadata": {},
   "source": [
    "# Random Forest"
   ]
  },
  {
   "cell_type": "code",
   "execution_count": 28,
   "id": "0d491ef5",
   "metadata": {},
   "outputs": [
    {
     "name": "stdout",
     "output_type": "stream",
     "text": [
      "Accuracy: 0.8461538461538461\n"
     ]
    }
   ],
   "source": [
    "#Create a Gaussian Classifier\n",
    "clf=RandomForestClassifier(n_estimators=100)\n",
    "\n",
    "#Train the model using the training sets y_pred=clf.predict(X_val)\n",
    "clf.fit(X_train,y_train)\n",
    "\n",
    "# prediction on test set\n",
    "y_pred=clf.predict(X_val)\n",
    "\n",
    "#Import scikit-learn metrics module for accuracy calculation\n",
    "from sklearn import metrics\n",
    "# Model Accuracy, how often is the classifier correct?\n",
    "print(\"Accuracy:\",metrics.accuracy_score(y_val, y_pred))"
   ]
  },
  {
   "cell_type": "code",
   "execution_count": 29,
   "id": "443ae0d5",
   "metadata": {},
   "outputs": [
    {
     "data": {
      "image/png": "[encoded data removed]",
      "text/plain": [
       "<Figure size 432x288 with 1 Axes>"
      ]
     },
     "metadata": {
      "needs_background": "light"
     },
     "output_type": "display_data"
    }
   ],
   "source": [
    "cm = confusion_matrix(y_test,y_pred)\n",
    "sns.heatmap(cm, cbar=False, annot=True)\n",
    "plt.show()"
   ]
  },
  {
   "cell_type": "markdown",
   "id": "e4c811d0",
   "metadata": {},
   "source": [
    "# SVM"
   ]
  },
  {
   "cell_type": "code",
   "execution_count": 33,
   "id": "c129a4bf",
   "metadata": {},
   "outputs": [],
   "source": [
    "from sklearn import svm\n",
    "\n",
    "#Create a svm Classifier\n",
    "clf = svm.SVC(kernel='linear') # Linear Kernel\n",
    "\n",
    "#Train the model using the training sets\n",
    "clf.fit(X_train, y_train)\n",
    "\n",
    "#Predict the response for validation dataset\n",
    "y_pred = clf.predict(X_val)"
   ]
  },
  {
   "cell_type": "code",
   "execution_count": 41,
   "id": "c53df4b6",
   "metadata": {},
   "outputs": [
    {
     "name": "stdout",
     "output_type": "stream",
     "text": [
      "Accuracy: 0.38461538461538464\n"
     ]
    }
   ],
   "source": [
    "print(\"Accuracy:\",metrics.accuracy_score(y_val, y_pred))"
   ]
  },
  {
   "cell_type": "code",
   "execution_count": 42,
   "id": "a1ea7cd1",
   "metadata": {},
   "outputs": [
    {
     "data": {
      "image/png": "[encoded data removed]",
      "text/plain": [
       "<Figure size 432x288 with 1 Axes>"
      ]
     },
     "metadata": {
      "needs_background": "light"
     },
     "output_type": "display_data"
    }
   ],
   "source": [
    "cm = confusion_matrix(y_val,y_pred)\n",
    "sns.heatmap(cm, cbar=False, annot=True)\n",
    "plt.show()"
   ]
  },
  {
   "cell_type": "markdown",
   "id": "39fa1c41",
   "metadata": {},
   "source": [
    "# Manual Hyperparameter Tuning"
   ]
  },
  {
   "cell_type": "code",
   "execution_count": 53,
   "id": "a8293ed1",
   "metadata": {},
   "outputs": [
    {
     "name": "stdout",
     "output_type": "stream",
     "text": [
      "[[ 7 11]\n",
      " [19 15]]\n",
      "0.8461538461538461\n",
      "              precision    recall  f1-score   support\n",
      "\n",
      "    Negative       0.73      0.95      0.83        20\n",
      "    Positive       0.96      0.78      0.86        32\n",
      "\n",
      "    accuracy                           0.85        52\n",
      "   macro avg       0.85      0.87      0.84        52\n",
      "weighted avg       0.87      0.85      0.85        52\n",
      "\n"
     ]
    }
   ],
   "source": [
    "### Manual Hyperparameter Tuning\n",
    "from sklearn.metrics import confusion_matrix,classification_report,accuracy_score\n",
    "model=RandomForestClassifier(n_estimators=1000,criterion='gini',\n",
    "                             max_features='log2',min_samples_leaf=10,random_state=100).fit(X_train,y_train)\n",
    "predictions=model.predict(X_val)\n",
    "print(confusion_matrix(y_test,predictions))\n",
    "print(accuracy_score(y_val,predictions))\n",
    "print(classification_report(y_val,predictions))"
   ]
  },
  {
   "cell_type": "code",
   "execution_count": 54,
   "id": "76a13066",
   "metadata": {},
   "outputs": [
    {
     "data": {
      "image/png": "[encoded data removed]",
      "text/plain": [
       "<Figure size 432x288 with 1 Axes>"
      ]
     },
     "metadata": {
      "needs_background": "light"
     },
     "output_type": "display_data"
    }
   ],
   "source": [
    "cm = confusion_matrix(y_val,predictions)\n",
    "sns.heatmap(cm, cbar=False, annot=True)\n",
    "plt.show()"
   ]
  },
  {
   "cell_type": "code",
   "execution_count": 44,
   "id": "ecebb768",
   "metadata": {},
   "outputs": [
    {
     "name": "stdout",
     "output_type": "stream",
     "text": [
      "[[19  1]\n",
      " [ 7 25]]\n",
      "0.8461538461538461\n",
      "              precision    recall  f1-score   support\n",
      "\n",
      "    Negative       0.73      0.95      0.83        20\n",
      "    Positive       0.96      0.78      0.86        32\n",
      "\n",
      "    accuracy                           0.85        52\n",
      "   macro avg       0.85      0.87      0.84        52\n",
      "weighted avg       0.87      0.85      0.85        52\n",
      "\n"
     ]
    }
   ],
   "source": [
    "### Manual Hyperparameter Tuning\n",
    "\n",
    "model=RandomForestClassifier(n_estimators=900,criterion='gini',\n",
    "                             max_features='sqrt',min_samples_leaf=10,random_state=100).fit(X_train,y_train)\n",
    "predictions=model.predict(X_val)\n",
    "print(confusion_matrix(y_val,predictions))\n",
    "print(accuracy_score(y_val,predictions))\n",
    "print(classification_report(y_val,predictions))"
   ]
  },
  {
   "cell_type": "code",
   "execution_count": 45,
   "id": "0ccf7fd3",
   "metadata": {},
   "outputs": [
    {
     "data": {
      "image/png": "[encoded data removed]",
      "text/plain": [
       "<Figure size 432x288 with 1 Axes>"
      ]
     },
     "metadata": {
      "needs_background": "light"
     },
     "output_type": "display_data"
    }
   ],
   "source": [
    "cm = confusion_matrix(y_test,predictions)\n",
    "sns.heatmap(cm, cbar=False, annot=True)\n",
    "plt.show()"
   ]
  },
  {
   "cell_type": "markdown",
   "id": "470f05a9",
   "metadata": {},
   "source": [
    "# Randomized Search CV"
   ]
  },
  {
   "cell_type": "code",
   "execution_count": 46,
   "id": "b41e09ab",
   "metadata": {},
   "outputs": [
    {
     "name": "stdout",
     "output_type": "stream",
     "text": [
      "{'n_estimators': [200, 400, 600, 800, 1000, 1200, 1400, 1600, 1800, 2000], 'max_features': ['auto', 'sqrt', 'log2'], 'max_depth': [10, 120, 230, 340, 450, 560, 670, 780, 890, 1000], 'min_samples_split': [2, 5, 10, 14], 'min_samples_leaf': [1, 2, 4, 6, 8], 'criterion': ['entropy', 'gini']}\n"
     ]
    }
   ],
   "source": [
    "import numpy as np\n",
    "from sklearn.model_selection import RandomizedSearchCV\n",
    "# Number of trees in random forest\n",
    "n_estimators = [int(x) for x in np.linspace(start = 200, stop = 2000, num = 10)]\n",
    "# Number of features to consider at every split\n",
    "max_features = ['auto', 'sqrt','log2']\n",
    "# Maximum number of levels in tree\n",
    "max_depth = [int(x) for x in np.linspace(10, 1000,10)]\n",
    "# Minimum number of samples required to split a node\n",
    "min_samples_split = [2, 5, 10,14]\n",
    "# Minimum number of samples required at each leaf node\n",
    "min_samples_leaf = [1, 2, 4,6,8]\n",
    "# Create the random grid\n",
    "random_grid = {'n_estimators': n_estimators,\n",
    "               'max_features': max_features,\n",
    "               'max_depth': max_depth,\n",
    "               'min_samples_split': min_samples_split,\n",
    "               'min_samples_leaf': min_samples_leaf,\n",
    "              'criterion':['entropy','gini']}\n",
    "print(random_grid)"
   ]
  },
  {
   "cell_type": "code",
   "execution_count": 47,
   "id": "f99e34d7",
   "metadata": {},
   "outputs": [
    {
     "name": "stdout",
     "output_type": "stream",
     "text": [
      "Fitting 3 folds for each of 100 candidates, totalling 300 fits\n"
     ]
    },
    {
     "data": {
      "text/plain": [
       "RandomizedSearchCV(cv=3, estimator=RandomForestClassifier(), n_iter=100,\n",
       "                   n_jobs=-1,\n",
       "                   param_distributions={'criterion': ['entropy', 'gini'],\n",
       "                                        'max_depth': [10, 120, 230, 340, 450,\n",
       "                                                      560, 670, 780, 890,\n",
       "                                                      1000],\n",
       "                                        'max_features': ['auto', 'sqrt',\n",
       "                                                         'log2'],\n",
       "                                        'min_samples_leaf': [1, 2, 4, 6, 8],\n",
       "                                        'min_samples_split': [2, 5, 10, 14],\n",
       "                                        'n_estimators': [200, 400, 600, 800,\n",
       "                                                         1000, 1200, 1400, 1600,\n",
       "                                                         1800, 2000]},\n",
       "                   random_state=100, verbose=2)"
      ]
     },
     "execution_count": 47,
     "metadata": {},
     "output_type": "execute_result"
    }
   ],
   "source": [
    "rf=RandomForestClassifier()\n",
    "rf_randomcv=RandomizedSearchCV(estimator=rf,param_distributions=random_grid,n_iter=100,cv=3,verbose=2,\n",
    "                               random_state=100,n_jobs=-1)\n",
    "### fit the randomized model\n",
    "rf_randomcv.fit(X_train,y_train)"
   ]
  },
  {
   "cell_type": "code",
   "execution_count": 48,
   "id": "eb920813",
   "metadata": {},
   "outputs": [
    {
     "data": {
      "text/plain": [
       "{'n_estimators': 600,\n",
       " 'min_samples_split': 2,\n",
       " 'min_samples_leaf': 1,\n",
       " 'max_features': 'sqrt',\n",
       " 'max_depth': 120,\n",
       " 'criterion': 'entropy'}"
      ]
     },
     "execution_count": 48,
     "metadata": {},
     "output_type": "execute_result"
    }
   ],
   "source": [
    "rf_randomcv.best_params_"
   ]
  },
  {
   "cell_type": "code",
   "execution_count": 49,
   "id": "c917024c",
   "metadata": {},
   "outputs": [],
   "source": [
    "best_random_grid=rf_randomcv.best_estimator_"
   ]
  },
  {
   "cell_type": "code",
   "execution_count": 56,
   "id": "db7cbf58",
   "metadata": {},
   "outputs": [
    {
     "name": "stdout",
     "output_type": "stream",
     "text": [
      "[[18  0]\n",
      " [ 0 34]]\n",
      "Accuracy Score 1.0\n"
     ]
    }
   ],
   "source": [
    "from sklearn.metrics import accuracy_score\n",
    "y_pred=best_random_grid.predict(X_test)\n",
    "print(confusion_matrix(y_test,y_pred))\n",
    "print(\"Accuracy Score {}\".format(accuracy_score(y_test,y_pred)))\n",
    "#print(\"Classification report: {}\".format(classification_report(y_test,y_pred)))"
   ]
  },
  {
   "cell_type": "code",
   "execution_count": 52,
   "id": "b10bb55b",
   "metadata": {},
   "outputs": [
    {
     "data": {
      "image/png": "[encoded data removed]",
      "text/plain": [
       "<Figure size 432x288 with 1 Axes>"
      ]
     },
     "metadata": {
      "needs_background": "light"
     },
     "output_type": "display_data"
    }
   ],
   "source": [
    "cm = confusion_matrix(y_val,y_pred)\n",
    "sns.heatmap(cm, cbar=False, annot=True)\n",
    "plt.show()"
   ]
  },
  {
   "cell_type": "code",
   "execution_count": 55,
   "id": "a435e081",
   "metadata": {},
   "outputs": [
    {
     "name": "stdout",
     "output_type": "stream",
     "text": [
      "              precision    recall  f1-score   support\n",
      "\n",
      "    Negative       1.00      1.00      1.00        18\n",
      "    Positive       1.00      1.00      1.00        34\n",
      "\n",
      "    accuracy                           1.00        52\n",
      "   macro avg       1.00      1.00      1.00        52\n",
      "weighted avg       1.00      1.00      1.00        52\n",
      "\n"
     ]
    }
   ],
   "source": [
    "print(classification_report(y_test, y_pred))"
   ]
  },
  {
   "cell_type": "code",
   "execution_count": null,
   "id": "705847a6",
   "metadata": {},
   "outputs": [],
   "source": []
  }
 ],
 "metadata": {
  "kernelspec": {
   "display_name": "Python 3 (ipykernel)",
   "language": "python",
   "name": "python3"
  },
  "language_info": {
   "codemirror_mode": {
    "name": "ipython",
    "version": 3
   },
   "file_extension": ".py",
   "mimetype": "text/x-python",
   "name": "python",
   "nbconvert_exporter": "python",
   "pygments_lexer": "ipython3",
   "version": "3.8.12"
  }
 },
 "nbformat": 4,
 "nbformat_minor": 5
}
